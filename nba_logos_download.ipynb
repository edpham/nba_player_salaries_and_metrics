{
 "cells": [
  {
   "cell_type": "code",
   "execution_count": 3,
   "id": "5ddb0e40-49b3-4e06-9ff7-2fe75260a581",
   "metadata": {},
   "outputs": [],
   "source": [
    "from nba_api.stats.static import teams\n",
    "import requests\n",
    "import shutil\n",
    "import pandas as pd"
   ]
  },
  {
   "cell_type": "code",
   "execution_count": 4,
   "id": "2cd62310-3dd9-4d7d-866a-3e9e25538d48",
   "metadata": {},
   "outputs": [],
   "source": [
    "teams = pd.DataFrame(teams.get_teams())"
   ]
  },
  {
   "cell_type": "code",
   "execution_count": 5,
   "id": "06a788b5-937e-4814-99c9-4c41e41f4e67",
   "metadata": {},
   "outputs": [],
   "source": [
    "team_names = teams[['full_name']]"
   ]
  },
  {
   "cell_type": "code",
   "execution_count": 8,
   "id": "d05c8ebe-d73c-4b52-90f8-685102183f70",
   "metadata": {},
   "outputs": [],
   "source": [
    "list_of_teams = team_names['full_name'].to_list()"
   ]
  },
  {
   "cell_type": "code",
   "execution_count": 10,
   "id": "ad248bd6-44bd-44a1-99bf-342dd9efec06",
   "metadata": {},
   "outputs": [],
   "source": [
    "modified_list_of_teams = [name.replace(' ', '-').lower() for name in list_of_teams]"
   ]
  },
  {
   "cell_type": "code",
   "execution_count": 17,
   "id": "da5ab9c4-9125-4509-9641-b6de67f46ed7",
   "metadata": {
    "scrolled": true
   },
   "outputs": [
    {
     "data": {
      "text/plain": [
       "['atlanta-hawks',\n",
       " 'boston-celtics',\n",
       " 'cleveland-cavaliers',\n",
       " 'new-orleans-pelicans',\n",
       " 'chicago-bulls',\n",
       " 'dallas-mavericks',\n",
       " 'denver-nuggets',\n",
       " 'golden-state-warriors',\n",
       " 'houston-rockets',\n",
       " 'los-angeles-clippers',\n",
       " 'los-angeles-lakers',\n",
       " 'miami-heat',\n",
       " 'milwaukee-bucks',\n",
       " 'minnesota-timberwolves',\n",
       " 'brooklyn-nets',\n",
       " 'new-york-knicks',\n",
       " 'orlando-magic',\n",
       " 'indiana-pacers',\n",
       " 'philadelphia-76ers',\n",
       " 'phoenix-suns',\n",
       " 'portland-trail-blazers',\n",
       " 'sacramento-kings',\n",
       " 'san-antonio-spurs',\n",
       " 'oklahoma-city-thunder',\n",
       " 'toronto-raptors',\n",
       " 'utah-jazz',\n",
       " 'memphis-grizzlies',\n",
       " 'washington-wizards',\n",
       " 'detroit-pistons',\n",
       " 'charlotte-hornets']"
      ]
     },
     "execution_count": 17,
     "metadata": {},
     "output_type": "execute_result"
    }
   ],
   "source": [
    "modified_list_of_teams"
   ]
  },
  {
   "cell_type": "code",
   "execution_count": 15,
   "id": "0f86c41e-2086-4301-9479-21641c850939",
   "metadata": {},
   "outputs": [
    {
     "name": "stdout",
     "output_type": "stream",
     "text": [
      "Image sucessfully Downloaded: ./images/atlanta-hawks.png\n",
      "Image sucessfully Downloaded: ./images/boston-celtics.png\n",
      "Image sucessfully Downloaded: ./images/cleveland-cavaliers.png\n",
      "Image sucessfully Downloaded: ./images/new-orleans-pelicans.png\n",
      "Image sucessfully Downloaded: ./images/chicago-bulls.png\n",
      "Image sucessfully Downloaded: ./images/dallas-mavericks.png\n",
      "Image ./images/denver-nuggets.png Couldn't be retrieved\n",
      "Image sucessfully Downloaded: ./images/golden-state-warriors.png\n",
      "Image sucessfully Downloaded: ./images/houston-rockets.png\n",
      "Image ./images/los-angeles-clippers.png Couldn't be retrieved\n",
      "Image sucessfully Downloaded: ./images/los-angeles-lakers.png\n",
      "Image sucessfully Downloaded: ./images/miami-heat.png\n",
      "Image sucessfully Downloaded: ./images/milwaukee-bucks.png\n",
      "Image sucessfully Downloaded: ./images/minnesota-timberwolves.png\n",
      "Image sucessfully Downloaded: ./images/brooklyn-nets.png\n",
      "Image sucessfully Downloaded: ./images/new-york-knicks.png\n",
      "Image sucessfully Downloaded: ./images/orlando-magic.png\n",
      "Image sucessfully Downloaded: ./images/indiana-pacers.png\n",
      "Image sucessfully Downloaded: ./images/philadelphia-76ers.png\n",
      "Image sucessfully Downloaded: ./images/phoenix-suns.png\n",
      "Image sucessfully Downloaded: ./images/portland-trail-blazers.png\n",
      "Image sucessfully Downloaded: ./images/sacramento-kings.png\n",
      "Image sucessfully Downloaded: ./images/san-antonio-spurs.png\n",
      "Image sucessfully Downloaded: ./images/oklahoma-city-thunder.png\n",
      "Image sucessfully Downloaded: ./images/toronto-raptors.png\n",
      "Image sucessfully Downloaded: ./images/utah-jazz.png\n",
      "Image sucessfully Downloaded: ./images/memphis-grizzlies.png\n",
      "Image sucessfully Downloaded: ./images/washington-wizards.png\n",
      "Image sucessfully Downloaded: ./images/detroit-pistons.png\n",
      "Image sucessfully Downloaded: ./images/charlotte-hornets.png\n"
     ]
    }
   ],
   "source": [
    "for team in modified_list_of_teams:\n",
    "    url = f'https://loodibee.com/wp-content/uploads/nba-{team}-logo.png'\n",
    "    \n",
    "    file_name = f'./images/{team}.png'\n",
    "    \n",
    "    res = requests.get(url, stream = True)\n",
    "    \n",
    "    if res.status_code == 200:\n",
    "        with open(file_name,'wb') as f:\n",
    "            shutil.copyfileobj(res.raw, f)\n",
    "        print(f'Image sucessfully Downloaded: {file_name}')\n",
    "    else:\n",
    "        print(f'Image {file_name} Couldn\\'t be retrieved')"
   ]
  },
  {
   "cell_type": "markdown",
   "id": "0598db75-4c00-47e8-a4d9-779aed90686f",
   "metadata": {},
   "source": [
    "The Nuggets and Clippers had different logo name URLs, so had to manually download them."
   ]
  },
  {
   "cell_type": "code",
   "execution_count": null,
   "id": "362bafe9-3d31-4e2d-9c7e-9705ad843201",
   "metadata": {},
   "outputs": [],
   "source": []
  }
 ],
 "metadata": {
  "kernelspec": {
   "display_name": "Python 3 (ipykernel)",
   "language": "python",
   "name": "python3"
  },
  "language_info": {
   "codemirror_mode": {
    "name": "ipython",
    "version": 3
   },
   "file_extension": ".py",
   "mimetype": "text/x-python",
   "name": "python",
   "nbconvert_exporter": "python",
   "pygments_lexer": "ipython3",
   "version": "3.11.5"
  }
 },
 "nbformat": 4,
 "nbformat_minor": 5
}
