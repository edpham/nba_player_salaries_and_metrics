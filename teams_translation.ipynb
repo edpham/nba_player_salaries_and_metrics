{
 "cells": [
  {
   "cell_type": "code",
   "execution_count": 1,
   "id": "e280d952-f4fc-4955-a738-eedf50016247",
   "metadata": {},
   "outputs": [],
   "source": [
    "import pandas as pd\n",
    "from nba_api.stats.static import teams\n",
    "\n",
    "teams = pd.DataFrame(teams.get_teams())"
   ]
  },
  {
   "cell_type": "code",
   "execution_count": 2,
   "id": "a56b2607-b1a8-4969-b52d-0b0ad265cacf",
   "metadata": {},
   "outputs": [],
   "source": [
    "teams_translation = teams[['abbreviation', 'full_name']]"
   ]
  },
  {
   "cell_type": "code",
   "execution_count": 4,
   "id": "74464b97-8fea-4270-a188-f7c2b5cbf9bf",
   "metadata": {},
   "outputs": [],
   "source": [
    "teams_translation.to_csv('teams_translation.csv', index=False)"
   ]
  },
  {
   "cell_type": "code",
   "execution_count": null,
   "id": "397d9664-3e49-444a-9ed7-82fd20e7ea3a",
   "metadata": {},
   "outputs": [],
   "source": []
  }
 ],
 "metadata": {
  "kernelspec": {
   "display_name": "Python 3 (ipykernel)",
   "language": "python",
   "name": "python3"
  },
  "language_info": {
   "codemirror_mode": {
    "name": "ipython",
    "version": 3
   },
   "file_extension": ".py",
   "mimetype": "text/x-python",
   "name": "python",
   "nbconvert_exporter": "python",
   "pygments_lexer": "ipython3",
   "version": "3.11.5"
  }
 },
 "nbformat": 4,
 "nbformat_minor": 5
}
